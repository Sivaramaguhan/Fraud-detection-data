{
  "nbformat": 4,
  "nbformat_minor": 0,
  "metadata": {
    "colab": {
      "name": "Fraud detection data.ipynb",
      "provenance": [],
      "mount_file_id": "1cNphkL7kQVwBYi_23hIO257-s-QBHzZT",
      "authorship_tag": "ABX9TyPnsME1WG8GJXNkeT17ETFj"
    },
    "kernelspec": {
      "name": "python3",
      "display_name": "Python 3"
    },
    "language_info": {
      "name": "python"
    }
  },
  "cells": [
    {
      "cell_type": "code",
      "execution_count": 1,
      "metadata": {
        "colab": {
          "base_uri": "https://localhost:8080/"
        },
        "id": "EZUzoUww6-Dj",
        "outputId": "ed1261fe-883f-4dd0-b9f7-56e162f43444"
      },
      "outputs": [
        {
          "output_type": "stream",
          "name": "stdout",
          "text": [
            "Looking in indexes: https://pypi.org/simple, https://us-python.pkg.dev/colab-wheels/public/simple/\n",
            "Collecting xlsxwriter\n",
            "  Downloading XlsxWriter-3.0.3-py3-none-any.whl (149 kB)\n",
            "\u001b[K     |████████████████████████████████| 149 kB 27.0 MB/s \n",
            "\u001b[?25hInstalling collected packages: xlsxwriter\n",
            "Successfully installed xlsxwriter-3.0.3\n"
          ]
        }
      ],
      "source": [
        "!pip install xlsxwriter"
      ]
    },
    {
      "cell_type": "code",
      "source": [
        "import numpy as np\n",
        "import pandas as pd\n",
        "import random\n",
        "from datetime import timedelta\n",
        "import numpy as np \n",
        "from datetime import datetime\n",
        "import xlsxwriter"
      ],
      "metadata": {
        "id": "X8dJLDOR7ri1"
      },
      "execution_count": 2,
      "outputs": []
    },
    {
      "cell_type": "code",
      "source": [
        "df = pd.read_csv('/content/drive/MyDrive/Project files/data.csv')\n",
        "df.head()"
      ],
      "metadata": {
        "colab": {
          "base_uri": "https://localhost:8080/",
          "height": 206
        },
        "id": "M-LXjYXi7v-a",
        "outputId": "295a7bba-b07f-415b-8224-9bffc179c7db"
      },
      "execution_count": 4,
      "outputs": [
        {
          "output_type": "execute_result",
          "data": {
            "text/plain": [
              "   Fraud_id  Account_no. Account opening date     Transaction date  \\\n",
              "0      7726        98079  2021-09-27 19:23:36  2021-04-04 14:43:17   \n",
              "1      1767        15627  2021-07-05 08:02:11  2021-04-23 22:30:41   \n",
              "2      3724        82003  2021-08-29 05:10:57  2021-12-30 09:00:22   \n",
              "3      9853        12340  2021-09-16 10:25:26  2021-12-08 23:20:52   \n",
              "4      6223        34648  2021-08-11 05:38:34  2021-06-25 23:18:24   \n",
              "\n",
              "      Account type            Fraud type Transaction date new  \\\n",
              "0  Current account  identity theft fraud  2021-09-28 19:23:36   \n",
              "1  Current account  identity theft fraud  2021-07-06 08:02:11   \n",
              "2  Savings account  identity theft fraud  2021-12-30 09:00:22   \n",
              "3  Savings account  identity theft fraud  2021-12-08 23:20:52   \n",
              "4  Savings account           Cyber fraud  2021-08-12 05:38:34   \n",
              "\n",
              "   Transaction_Amount  \n",
              "0               48569  \n",
              "1                3297  \n",
              "2               97107  \n",
              "3               76499  \n",
              "4               92150  "
            ],
            "text/html": [
              "\n",
              "  <div id=\"df-6dba8cde-a3c3-4394-825f-ed6f4ee2a770\">\n",
              "    <div class=\"colab-df-container\">\n",
              "      <div>\n",
              "<style scoped>\n",
              "    .dataframe tbody tr th:only-of-type {\n",
              "        vertical-align: middle;\n",
              "    }\n",
              "\n",
              "    .dataframe tbody tr th {\n",
              "        vertical-align: top;\n",
              "    }\n",
              "\n",
              "    .dataframe thead th {\n",
              "        text-align: right;\n",
              "    }\n",
              "</style>\n",
              "<table border=\"1\" class=\"dataframe\">\n",
              "  <thead>\n",
              "    <tr style=\"text-align: right;\">\n",
              "      <th></th>\n",
              "      <th>Fraud_id</th>\n",
              "      <th>Account_no.</th>\n",
              "      <th>Account opening date</th>\n",
              "      <th>Transaction date</th>\n",
              "      <th>Account type</th>\n",
              "      <th>Fraud type</th>\n",
              "      <th>Transaction date new</th>\n",
              "      <th>Transaction_Amount</th>\n",
              "    </tr>\n",
              "  </thead>\n",
              "  <tbody>\n",
              "    <tr>\n",
              "      <th>0</th>\n",
              "      <td>7726</td>\n",
              "      <td>98079</td>\n",
              "      <td>2021-09-27 19:23:36</td>\n",
              "      <td>2021-04-04 14:43:17</td>\n",
              "      <td>Current account</td>\n",
              "      <td>identity theft fraud</td>\n",
              "      <td>2021-09-28 19:23:36</td>\n",
              "      <td>48569</td>\n",
              "    </tr>\n",
              "    <tr>\n",
              "      <th>1</th>\n",
              "      <td>1767</td>\n",
              "      <td>15627</td>\n",
              "      <td>2021-07-05 08:02:11</td>\n",
              "      <td>2021-04-23 22:30:41</td>\n",
              "      <td>Current account</td>\n",
              "      <td>identity theft fraud</td>\n",
              "      <td>2021-07-06 08:02:11</td>\n",
              "      <td>3297</td>\n",
              "    </tr>\n",
              "    <tr>\n",
              "      <th>2</th>\n",
              "      <td>3724</td>\n",
              "      <td>82003</td>\n",
              "      <td>2021-08-29 05:10:57</td>\n",
              "      <td>2021-12-30 09:00:22</td>\n",
              "      <td>Savings account</td>\n",
              "      <td>identity theft fraud</td>\n",
              "      <td>2021-12-30 09:00:22</td>\n",
              "      <td>97107</td>\n",
              "    </tr>\n",
              "    <tr>\n",
              "      <th>3</th>\n",
              "      <td>9853</td>\n",
              "      <td>12340</td>\n",
              "      <td>2021-09-16 10:25:26</td>\n",
              "      <td>2021-12-08 23:20:52</td>\n",
              "      <td>Savings account</td>\n",
              "      <td>identity theft fraud</td>\n",
              "      <td>2021-12-08 23:20:52</td>\n",
              "      <td>76499</td>\n",
              "    </tr>\n",
              "    <tr>\n",
              "      <th>4</th>\n",
              "      <td>6223</td>\n",
              "      <td>34648</td>\n",
              "      <td>2021-08-11 05:38:34</td>\n",
              "      <td>2021-06-25 23:18:24</td>\n",
              "      <td>Savings account</td>\n",
              "      <td>Cyber fraud</td>\n",
              "      <td>2021-08-12 05:38:34</td>\n",
              "      <td>92150</td>\n",
              "    </tr>\n",
              "  </tbody>\n",
              "</table>\n",
              "</div>\n",
              "      <button class=\"colab-df-convert\" onclick=\"convertToInteractive('df-6dba8cde-a3c3-4394-825f-ed6f4ee2a770')\"\n",
              "              title=\"Convert this dataframe to an interactive table.\"\n",
              "              style=\"display:none;\">\n",
              "        \n",
              "  <svg xmlns=\"http://www.w3.org/2000/svg\" height=\"24px\"viewBox=\"0 0 24 24\"\n",
              "       width=\"24px\">\n",
              "    <path d=\"M0 0h24v24H0V0z\" fill=\"none\"/>\n",
              "    <path d=\"M18.56 5.44l.94 2.06.94-2.06 2.06-.94-2.06-.94-.94-2.06-.94 2.06-2.06.94zm-11 1L8.5 8.5l.94-2.06 2.06-.94-2.06-.94L8.5 2.5l-.94 2.06-2.06.94zm10 10l.94 2.06.94-2.06 2.06-.94-2.06-.94-.94-2.06-.94 2.06-2.06.94z\"/><path d=\"M17.41 7.96l-1.37-1.37c-.4-.4-.92-.59-1.43-.59-.52 0-1.04.2-1.43.59L10.3 9.45l-7.72 7.72c-.78.78-.78 2.05 0 2.83L4 21.41c.39.39.9.59 1.41.59.51 0 1.02-.2 1.41-.59l7.78-7.78 2.81-2.81c.8-.78.8-2.07 0-2.86zM5.41 20L4 18.59l7.72-7.72 1.47 1.35L5.41 20z\"/>\n",
              "  </svg>\n",
              "      </button>\n",
              "      \n",
              "  <style>\n",
              "    .colab-df-container {\n",
              "      display:flex;\n",
              "      flex-wrap:wrap;\n",
              "      gap: 12px;\n",
              "    }\n",
              "\n",
              "    .colab-df-convert {\n",
              "      background-color: #E8F0FE;\n",
              "      border: none;\n",
              "      border-radius: 50%;\n",
              "      cursor: pointer;\n",
              "      display: none;\n",
              "      fill: #1967D2;\n",
              "      height: 32px;\n",
              "      padding: 0 0 0 0;\n",
              "      width: 32px;\n",
              "    }\n",
              "\n",
              "    .colab-df-convert:hover {\n",
              "      background-color: #E2EBFA;\n",
              "      box-shadow: 0px 1px 2px rgba(60, 64, 67, 0.3), 0px 1px 3px 1px rgba(60, 64, 67, 0.15);\n",
              "      fill: #174EA6;\n",
              "    }\n",
              "\n",
              "    [theme=dark] .colab-df-convert {\n",
              "      background-color: #3B4455;\n",
              "      fill: #D2E3FC;\n",
              "    }\n",
              "\n",
              "    [theme=dark] .colab-df-convert:hover {\n",
              "      background-color: #434B5C;\n",
              "      box-shadow: 0px 1px 3px 1px rgba(0, 0, 0, 0.15);\n",
              "      filter: drop-shadow(0px 1px 2px rgba(0, 0, 0, 0.3));\n",
              "      fill: #FFFFFF;\n",
              "    }\n",
              "  </style>\n",
              "\n",
              "      <script>\n",
              "        const buttonEl =\n",
              "          document.querySelector('#df-6dba8cde-a3c3-4394-825f-ed6f4ee2a770 button.colab-df-convert');\n",
              "        buttonEl.style.display =\n",
              "          google.colab.kernel.accessAllowed ? 'block' : 'none';\n",
              "\n",
              "        async function convertToInteractive(key) {\n",
              "          const element = document.querySelector('#df-6dba8cde-a3c3-4394-825f-ed6f4ee2a770');\n",
              "          const dataTable =\n",
              "            await google.colab.kernel.invokeFunction('convertToInteractive',\n",
              "                                                     [key], {});\n",
              "          if (!dataTable) return;\n",
              "\n",
              "          const docLinkHtml = 'Like what you see? Visit the ' +\n",
              "            '<a target=\"_blank\" href=https://colab.research.google.com/notebooks/data_table.ipynb>data table notebook</a>'\n",
              "            + ' to learn more about interactive tables.';\n",
              "          element.innerHTML = '';\n",
              "          dataTable['output_type'] = 'display_data';\n",
              "          await google.colab.output.renderOutput(dataTable, element);\n",
              "          const docLink = document.createElement('div');\n",
              "          docLink.innerHTML = docLinkHtml;\n",
              "          element.appendChild(docLink);\n",
              "        }\n",
              "      </script>\n",
              "    </div>\n",
              "  </div>\n",
              "  "
            ]
          },
          "metadata": {},
          "execution_count": 4
        }
      ]
    },
    {
      "cell_type": "code",
      "source": [
        "df['Account opening date'] = pd.to_datetime(df['Account opening date'])"
      ],
      "metadata": {
        "id": "KlJFmAOc9URz"
      },
      "execution_count": 9,
      "outputs": []
    },
    {
      "cell_type": "code",
      "source": [
        "df['Transaction date new'] = pd.to_datetime(df['Transaction date new'])"
      ],
      "metadata": {
        "id": "kPqnxEUw9UFC"
      },
      "execution_count": 10,
      "outputs": []
    },
    {
      "cell_type": "code",
      "source": [
        "df.info()"
      ],
      "metadata": {
        "colab": {
          "base_uri": "https://localhost:8080/"
        },
        "id": "caK8rgth83pp",
        "outputId": "23615f57-7363-49c7-8e28-9de985a06db6"
      },
      "execution_count": 11,
      "outputs": [
        {
          "output_type": "stream",
          "name": "stdout",
          "text": [
            "<class 'pandas.core.frame.DataFrame'>\n",
            "RangeIndex: 10000 entries, 0 to 9999\n",
            "Data columns (total 8 columns):\n",
            " #   Column                Non-Null Count  Dtype         \n",
            "---  ------                --------------  -----         \n",
            " 0   Fraud_id              10000 non-null  int64         \n",
            " 1   Account_no.           10000 non-null  int64         \n",
            " 2   Account opening date  10000 non-null  datetime64[ns]\n",
            " 3   Transaction date      10000 non-null  object        \n",
            " 4   Account type          10000 non-null  object        \n",
            " 5   Fraud type            10000 non-null  object        \n",
            " 6   Transaction date new  10000 non-null  datetime64[ns]\n",
            " 7   Transaction_Amount    10000 non-null  int64         \n",
            "dtypes: datetime64[ns](2), int64(3), object(3)\n",
            "memory usage: 625.1+ KB\n"
          ]
        }
      ]
    },
    {
      "cell_type": "code",
      "source": [
        "# What’s is days difference between account opening date and transaction date?\n",
        "\n",
        "# Try to answer the following questions in your report. \n",
        "\n",
        "# 1. What’s is days difference between account opening date and transaction date?(excluding weekends)\n",
        "\n",
        "# 2. What’s is the transaction break up of 1 month from account opening date.\n",
        "\n",
        "# 3. What is the monthly break up for transaction?\n",
        "\n",
        "# 4. What is the account type break up? \n",
        "\n",
        "\n",
        "# You can add your few more questions from your side and create report"
      ],
      "metadata": {
        "id": "HvU3qzbf8Ly4"
      },
      "execution_count": null,
      "outputs": []
    },
    {
      "cell_type": "code",
      "source": [
        "df['Diff_Without_Weekend'] = df.apply(lambda x : np.busday_count( x['Account opening date'].date() , x['Transaction date new'].date()), axis = 1)"
      ],
      "metadata": {
        "id": "hDIbOnReyVpZ"
      },
      "execution_count": 12,
      "outputs": []
    },
    {
      "cell_type": "code",
      "source": [
        "df['First_30_days'] = np.where(df['Diff_Without_Weekend'] <= 30 , 'First_30days_excluding_weekends' , 'greaterthan_30days_excluding_weekends')"
      ],
      "metadata": {
        "id": "TBfRGTo08LvX"
      },
      "execution_count": 13,
      "outputs": []
    },
    {
      "cell_type": "code",
      "source": [
        "df.sort_values(by = 'Transaction date', inplace = True)"
      ],
      "metadata": {
        "id": "7562wmYW8LsB"
      },
      "execution_count": 14,
      "outputs": []
    },
    {
      "cell_type": "code",
      "source": [
        "fraud_amt = df.groupby(['First_30_days','Fraud type','Account type'])['Transaction_Amount'].agg(['count','sum','mean']).reset_index()"
      ],
      "metadata": {
        "id": "tRipW2fZ8LoX"
      },
      "execution_count": 15,
      "outputs": []
    },
    {
      "cell_type": "code",
      "source": [
        "df['Transaction date new'] = df['Transaction date new'].apply(lambda  x:  x.date())\n",
        "\n",
        "df['Transaction_Month'] = df['Transaction date new'].apply(lambda x : x.replace(day=1))"
      ],
      "metadata": {
        "id": "zC6IFlRDb25y"
      },
      "execution_count": 16,
      "outputs": []
    },
    {
      "cell_type": "code",
      "source": [
        "tnx_amt_df = df.groupby(['Transaction_Month','Fraud type'])['Transaction_Amount'].agg(['count','sum','mean']).reset_index()"
      ],
      "metadata": {
        "id": "NJbkXoRVSk1l"
      },
      "execution_count": 17,
      "outputs": []
    },
    {
      "cell_type": "code",
      "source": [
        "sum_tnx_amt= tnx_amt_df.pivot(index='Fraud type', columns='Transaction_Month', values='sum')\n",
        "sum_tnx_amt.columns = [i.strftime('%B-%Y') for i in tnx_amt_df['Transaction_Month'].unique()]\n",
        "sum_tnx_amt = sum_tnx_amt.reset_index()"
      ],
      "metadata": {
        "id": "GgPwWbmJVNho"
      },
      "execution_count": 18,
      "outputs": []
    },
    {
      "cell_type": "code",
      "source": [
        "count_tnx_amt= tnx_amt_df.pivot(index='Fraud type', columns='Transaction_Month', values='count')\n",
        "count_tnx_amt.columns = [i.strftime('%B-%Y') for i in tnx_amt_df['Transaction_Month'].unique()]\n",
        "count_tnx_amt = count_tnx_amt.reset_index()"
      ],
      "metadata": {
        "id": "rHx70ia2gWXq"
      },
      "execution_count": 19,
      "outputs": []
    },
    {
      "cell_type": "code",
      "source": [
        "mean_tnx_amt= tnx_amt_df.pivot(index='Fraud type', columns='Transaction_Month', values='mean')\n",
        "mean_tnx_amt.columns = [i.strftime('%B-%Y') for i in tnx_amt_df['Transaction_Month'].unique()]\n",
        "mean_tnx_amt = mean_tnx_amt.reset_index()"
      ],
      "metadata": {
        "id": "WsCAusFDgr6K"
      },
      "execution_count": 20,
      "outputs": []
    },
    {
      "cell_type": "code",
      "source": [
        "# Creating Excel Writer Object from Pandas  \n",
        "writer = pd.ExcelWriter('Report.xlsx',engine='xlsxwriter')   \n",
        "workbook=writer.book\n",
        "worksheet=workbook.add_worksheet('Monthly Report')\n",
        "writer.sheets['Monthly Report'] = worksheet\n",
        "worksheet=workbook.add_worksheet('First_30_Days_Fraud_Report')\n",
        "writer.sheets['First_30_Days_Fraud_Report'] = worksheet\n",
        "pd.DataFrame(columns = ['Count Of Fraud Transaction']).to_excel(writer,sheet_name='Monthly Report',startrow= 1 , startcol=0)\n",
        "count_tnx_amt.to_excel(writer,sheet_name='Monthly Report',startrow=2, startcol=0)\n",
        "pd.DataFrame(columns = ['Sum Of Fraud Transaction Amount']).to_excel(writer,sheet_name='Monthly Report',startrow= 7 , startcol=0)\n",
        "sum_tnx_amt.to_excel(writer,sheet_name='Monthly Report',startrow=8 , startcol=0)  \n",
        "pd.DataFrame(columns = ['Mean Of Fraud Transaction Amount']).to_excel(writer,sheet_name='Monthly Report',startrow= 13 , startcol=0)\n",
        "mean_tnx_amt.to_excel(writer,sheet_name='Monthly Report',startrow= 14 , startcol=0)\n",
        "pd.DataFrame(columns = ['First_30_Days_Excluding_Weekend_From_Account_Opening_Fraud_Report']).to_excel(writer,sheet_name='First_30_Days_Fraud_Report',startrow= 1 , startcol=0)\n",
        "fraud_amt.to_excel(writer,sheet_name='First_30_Days_Fraud_Report',startrow= 2 , startcol=0)"
      ],
      "metadata": {
        "id": "IwweVbfMX0GR"
      },
      "execution_count": 21,
      "outputs": []
    },
    {
      "cell_type": "code",
      "source": [
        "writer.close()"
      ],
      "metadata": {
        "id": "F7MBsdU08Lj2"
      },
      "execution_count": 22,
      "outputs": []
    },
    {
      "cell_type": "code",
      "source": [
        "from google.colab import files\n",
        "files.download('Report.xlsx')"
      ],
      "metadata": {
        "colab": {
          "base_uri": "https://localhost:8080/",
          "height": 17
        },
        "id": "UvTgA1pH8LgD",
        "outputId": "05b1d7a9-b0a5-4697-c540-f843103ce207"
      },
      "execution_count": 23,
      "outputs": [
        {
          "output_type": "display_data",
          "data": {
            "text/plain": [
              "<IPython.core.display.Javascript object>"
            ],
            "application/javascript": [
              "\n",
              "    async function download(id, filename, size) {\n",
              "      if (!google.colab.kernel.accessAllowed) {\n",
              "        return;\n",
              "      }\n",
              "      const div = document.createElement('div');\n",
              "      const label = document.createElement('label');\n",
              "      label.textContent = `Downloading \"${filename}\": `;\n",
              "      div.appendChild(label);\n",
              "      const progress = document.createElement('progress');\n",
              "      progress.max = size;\n",
              "      div.appendChild(progress);\n",
              "      document.body.appendChild(div);\n",
              "\n",
              "      const buffers = [];\n",
              "      let downloaded = 0;\n",
              "\n",
              "      const channel = await google.colab.kernel.comms.open(id);\n",
              "      // Send a message to notify the kernel that we're ready.\n",
              "      channel.send({})\n",
              "\n",
              "      for await (const message of channel.messages) {\n",
              "        // Send a message to notify the kernel that we're ready.\n",
              "        channel.send({})\n",
              "        if (message.buffers) {\n",
              "          for (const buffer of message.buffers) {\n",
              "            buffers.push(buffer);\n",
              "            downloaded += buffer.byteLength;\n",
              "            progress.value = downloaded;\n",
              "          }\n",
              "        }\n",
              "      }\n",
              "      const blob = new Blob(buffers, {type: 'application/binary'});\n",
              "      const a = document.createElement('a');\n",
              "      a.href = window.URL.createObjectURL(blob);\n",
              "      a.download = filename;\n",
              "      div.appendChild(a);\n",
              "      a.click();\n",
              "      div.remove();\n",
              "    }\n",
              "  "
            ]
          },
          "metadata": {}
        },
        {
          "output_type": "display_data",
          "data": {
            "text/plain": [
              "<IPython.core.display.Javascript object>"
            ],
            "application/javascript": [
              "download(\"download_6ed3bc95-687f-4e34-93ac-d677a4300429\", \"Report.xlsx\", 7437)"
            ]
          },
          "metadata": {}
        }
      ]
    }
  ]
}